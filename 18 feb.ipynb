{
 "cells": [
  {
   "cell_type": "code",
   "execution_count": null,
   "id": "4babb301-8760-4900-b3b7-f892e1ef8b0f",
   "metadata": {},
   "outputs": [],
   "source": [
    "Q1. What is an API? Give an example, where an API is used in real life."
   ]
  },
  {
   "cell_type": "code",
   "execution_count": null,
   "id": "0d9e4353-8e4c-4007-b884-ee93a82e3d23",
   "metadata": {},
   "outputs": [],
   "source": [
    "API stands for 'application programming interface, basic terms, API is a software intermediary that allows two different applications to talk to each other.\n",
    "API is set of rules which connect different different system\n",
    "\n",
    "we made up ape by TCP IP ,HTTP \n",
    "example of web API Gmail,gpay etc. web API is category of API "
   ]
  },
  {
   "cell_type": "code",
   "execution_count": null,
   "id": "4932a41e-155f-4cd6-8649-07e77194c360",
   "metadata": {},
   "outputs": [],
   "source": [
    "Q2. Give advantages and disadvantages of using API."
   ]
  },
  {
   "cell_type": "code",
   "execution_count": null,
   "id": "d8e5bb91-1cbe-4d57-a700-b61b1b654476",
   "metadata": {},
   "outputs": [],
   "source": [
    "here is a lot of conveniences and advantages to APIs,\n",
    "but business leaders should also be aware of the disadvantages. As a \n",
    "single point of entry, an API is a gateway and can become a hacker's primary target. Once the API is compromised, all other applications and systems become vulnerable.\n",
    "\n",
    "\n",
    "\n",
    "Analytics. Google Analytics is a part of the Google Cloud API Platform and offers multiple API options that businesses can use for analytics. The most common APIs used are Core Reporting API and Management API.\n",
    "Project and Team Management. Tools like Jira, Basecamp, and Microsoft Teams provide communication between coworkers and data sharing functionality — and that all happens through API.\n",
    "Online Payment Systems. Where digital money transfers occur, there is an API supporting the process. Many organizations choose to utilize APIs from a firm such as PayPal to provide secure, safe money transfers to their customers."
   ]
  },
  {
   "cell_type": "code",
   "execution_count": null,
   "id": "b1623ccd-2ef4-4dfc-89ab-64744253571f",
   "metadata": {},
   "outputs": [],
   "source": [
    "Q3. What is a Web API? Differentiate between API and Web API."
   ]
  },
  {
   "cell_type": "code",
   "execution_count": null,
   "id": "d56c8958-1f57-48cf-9c4c-ecc205604fc4",
   "metadata": {},
   "outputs": [],
   "source": [
    "web API is category of API \n",
    "Analytics. Google Analytics is a part of the Google Cloud API Platform and offers multiple API options that businesses can use for analytics. The most common APIs used are Core Reporting API and Management API.\n",
    "Project and Team Management. Tools like Jira, Basecamp, and Microsoft Teams provide communication between coworkers and data sharing functionality — and that all happens through API.\n",
    "Online Payment Systems. Where digital money transfers occur, there is an API supporting the process. Many organizations choose to utilize APIs from a firm such as PayPal to provide secure, safe money transfers to their customers.\n",
    "\n",
    "\n",
    "\n",
    "web service is used for REST, SOAP, and XML-RPC for communication, while API is used for any style of communication.\n",
    "Web service supports only HTTP protocol, whereas API supports HTTP/HTTPS protocol.\n",
    "Web service supports XML, while API supports XML and JSON.\n",
    "All Web services are APIs, but all APIs are not web services."
   ]
  },
  {
   "cell_type": "code",
   "execution_count": null,
   "id": "afd52534-4921-4ee9-b6e9-cd306beb6a19",
   "metadata": {},
   "outputs": [],
   "source": [
    "Q4. Explain REST and SOAP Architecture. Mention shortcomings of SOAP."
   ]
  },
  {
   "cell_type": "code",
   "execution_count": null,
   "id": "73089998-42ae-4728-84d2-bb9f87c9da35",
   "metadata": {},
   "outputs": [],
   "source": [
    "Rest Architecture  is based web API use in data transfer ,delete or do communication to web\n",
    ",it known for simplicity ,scalability ,flexibilty\n",
    "\n",
    "Soap architec is based on Xml and internally used wsdl,Wsdl support HTTP , SMTP\n",
    "Rest is easy to use , stateless protocol\n",
    "\n",
    "Soap is light weight and little complex , more secure  then Rest                                                      "
   ]
  },
  {
   "cell_type": "code",
   "execution_count": null,
   "id": "d47d8d5f-dfcc-42ee-8931-2c49c0c3e057",
   "metadata": {},
   "outputs": [],
   "source": [
    "Q5. Differentiate between REST and SOAP."
   ]
  },
  {
   "cell_type": "code",
   "execution_count": null,
   "id": "253a96dc-6f61-4a15-b136-f95e619d2865",
   "metadata": {},
   "outputs": [],
   "source": [
    "SOAP-\n",
    "user built protocol\n",
    "support OASIS and W3C standard\n",
    "better  handling sensetive data\n",
    "\n",
    "\n",
    "REST\n",
    "use http and TLS encryption\n",
    "use Json for transfering data\n",
    "faster than Soap atp"
   ]
  },
  {
   "cell_type": "code",
   "execution_count": null,
   "id": "630273be-f053-4b16-bfe1-0601b695cb47",
   "metadata": {},
   "outputs": [],
   "source": []
  }
 ],
 "metadata": {
  "kernelspec": {
   "display_name": "Python 3 (ipykernel)",
   "language": "python",
   "name": "python3"
  },
  "language_info": {
   "codemirror_mode": {
    "name": "ipython",
    "version": 3
   },
   "file_extension": ".py",
   "mimetype": "text/x-python",
   "name": "python",
   "nbconvert_exporter": "python",
   "pygments_lexer": "ipython3",
   "version": "3.12.0"
  }
 },
 "nbformat": 4,
 "nbformat_minor": 5
}
